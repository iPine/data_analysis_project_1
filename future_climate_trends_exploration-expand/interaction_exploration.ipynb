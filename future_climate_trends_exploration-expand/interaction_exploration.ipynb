{
 "cells": [
  {
   "cell_type": "markdown",
   "metadata": {},
   "source": [
    "### 背景\n",
    "分析全球和自己所在地的气温数据，比较所在城市的气温走向与全球气温走向。"
   ]
  },
  {
   "cell_type": "markdown",
   "metadata": {},
   "source": [
    "### 数据获取\n",
    "从数据库中提取数据。通过[Udacity](https://classroom.udacity.com/nanodegrees/nd002-cn-basic-vip/parts/d1865612-f3fd-4db0-80c7-348c594d573d/modules/7b83f9fd-759a-4cc6-8456-ce3783e17475/lessons/dce89631-d141-4a36-b3fd-5e8ec038bc70/concepts/530f21c0-2f37-4390-aaab-3ce440e56d80)提供的工作区，该工作区与数据库连接。\n",
    "\n",
    "提取出两个.csv文件：\n",
    "\n",
    "- results_china.csv 包含中国所有城市的平均气温数据\n",
    "- results_global.csv 包含全球的平均气温数据"
   ]
  },
  {
   "cell_type": "markdown",
   "metadata": {},
   "source": [
    "### 交互式可视化\n",
    "使用Python将提取的数据可视化成一个线条图，用户可选择不同城市和移动N值来比较不同城市和全球的气温趋势。\n",
    "\n",
    "#### 说明\n",
    "\n",
    "1. 为了实现下拉框交互式选择城市功能，需要从`results_china.csv`数据中过滤出对应城市的数据。------> 函数filter_city()\n",
    "\n",
    "   1）对城市数据的`avg_temp`列的缺失值作处理\n",
    "   \n",
    "   2）按年份，将城市的气温数据和全球的气温数据合并放到一个列表\n",
    "\n",
    "\n",
    "2. 为了使绘制的线图更加平滑，便于观察气温走向，所以采用气温的移动平均值，而不是原始的年平均值。因而需要先计算移动平均值----->函数`calculate_moving_average()`\n",
    "\n",
    "   1）移动平均值的计算方法这里采用[pandas.rolling_mean](http://pandas.pydata.org/pandas-docs/version/0.17.1/generated/pandas.rolling_mean.html)函数。但是，按照文档说明传入参数后，会报出`AttributeError: module 'pandas' has no attribute 'rolling_mean'\n",
    "`错误，后来发现是`pandas`库的版本问题，具体解决方案可参考[这里](https://stackoverflow.com/questions/50482884/module-pandas-has-no-attribute-rolling-mean)。\n",
    "\n",
    "   2）移动平均值窗口大小的设定需要权衡考虑。设置得过小，起不到平滑的作用，波动仍然会很剧烈；设置得过大，数据越平滑，但是准确性和敏感性就降低的越多，所以需要在数据变化准确性和平滑程度之间进行一个权衡。这里用户可根据不同的分析目的自由选择移动N值的值，范围在2到15之间。\n",
    "\n",
    "\n",
    "3. 有了数据后，就可以开始绘制图形了----->函数`show_fig()`\n",
    "\n",
    "   1）绘制图使用`matplotlib.pyplot`模块；设置坐标轴的ticks需用到`matplotlib.ticker`模块；matplotlib绘图可视化的各属性设置可参考[这里](http://python.jobbole.com/85106/)"
   ]
  },
  {
   "cell_type": "code",
   "execution_count": 8,
   "metadata": {},
   "outputs": [
    {
     "data": {
      "application/vnd.jupyter.widget-view+json": {
       "model_id": "f0fb490ab82149c1b43ed3b22c13b330",
       "version_major": 2,
       "version_minor": 0
      },
      "text/plain": [
       "interactive(children=(Dropdown(description='city', options={'昆明': 'Kunming', '齐齐哈尔': 'Qiqihar', '西安': 'Xian', …"
      ]
     },
     "metadata": {},
     "output_type": "display_data"
    },
    {
     "data": {
      "text/plain": [
       "<function __main__.project_func(city, x)>"
      ]
     },
     "execution_count": 8,
     "metadata": {},
     "output_type": "execute_result"
    }
   ],
   "source": [
    "\"\"\"分析所在城市和全球的气温趋势\n",
    "\"\"\"\n",
    "import pandas as pd\n",
    "import matplotlib.pyplot as plt\n",
    "import ipywidgets as widgets\n",
    "from ipywidgets import interact\n",
    "from matplotlib.ticker import MultipleLocator, FormatStrFormatter\n",
    "%matplotlib inline\n",
    "\n",
    "\n",
    "\n",
    "def calculate_moving_average(data,window):\n",
    "    \"\"\"计算移动平均值\n",
    "       参数1：需要计算移动平均值的数据\n",
    "       参数2：移动窗口大小\n",
    "    \"\"\"\n",
    "    data['city_mavg'] = round(data['avg_temp_x'].rolling(window).mean(),2)\n",
    "    data['global_mavg'] = round(data['avg_temp_y'].rolling(window).mean(),2)\n",
    "    return data\n",
    "\n",
    "\n",
    "def show_fig(data):\n",
    "    \"\"\"将所在城市与全球平均气温数据绘制成折线图并展示\n",
    "       参数1：城市平均气温数据\n",
    "       参数2：全球平均气温数据\n",
    "    \"\"\"\n",
    "    #设置显示的图片大小\n",
    "    figsize = 10,5 \n",
    "    figure, ax = plt.subplots(figsize=figsize) \n",
    "    \n",
    "    #X,Y轴的标签\n",
    "    plt.xlabel('Year')\n",
    "    plt.ylabel('Moving Average Temperature (ºC)')\n",
    "\n",
    "    xmajorLocator   = MultipleLocator(20) #将x轴主刻度标签设置为20的倍数\n",
    "    xminorLocator   = MultipleLocator(5) #将x轴次刻度标签设置为5的倍数\n",
    "    ax.xaxis.set_major_locator(xmajorLocator)\n",
    "    ax.xaxis.set_minor_locator(xminorLocator)\n",
    "\n",
    "\n",
    "    ymajorLocator   = MultipleLocator(1) #将y轴主刻度标签设置为1的倍数\n",
    "    yminorLocator   = MultipleLocator(0.2) #将y轴次刻度标签设置为0.2的倍数\n",
    "    ax.yaxis.set_major_locator(ymajorLocator)\n",
    "    ax.yaxis.set_minor_locator(yminorLocator)\n",
    "    \n",
    "    ax.xaxis.grid(True, which='major') #x坐标轴的网格使用主刻度\n",
    "    ax.yaxis.grid(True, which='minor') #y坐标轴的网格使用次刻度\n",
    "\n",
    "\n",
    "    plt.plot(data['year'],data['city_mavg'],color='skyblue',linewidth='2',label=data['city'][0])\n",
    "    plt.plot(data['year'],data['global_mavg'],color='lightgreen',linewidth='2',label='Global')\n",
    "    plt.legend()\n",
    "    plt.title('Temperature Trend')\n",
    "\n",
    "    plt.show() \n",
    "\n",
    "\n",
    "def filter_city(city):\n",
    "    \"\"\"从results_china文件中过滤出某一个城市，处理缺失值之后将该城市的气温数据与全球气温数据合在一起\n",
    "       参数：城市名\n",
    "    \"\"\"\n",
    "    china_data = pd.read_csv('data/results_china.csv')\n",
    "    global_data = pd.read_csv('data/results_global.csv')\n",
    "    city_data = china_data[china_data.city == city]\n",
    "    city_data = city_data.sort_values(by='year')\n",
    "    \n",
    "    try:\n",
    "        year_nonull = int(city_data[city_data.avg_temp.isnull()].tail(1).year) # 查找avg_temp列缺失的年份，将其记录在year_nonull中\n",
    "    except:\n",
    "        data = city_data.merge(global_data,how='left',on='year') # 异常：year_nonull不存在\n",
    "    else:\n",
    "        city_data = city_data[city_data.year > year_nonull]  # year_nonull存在\n",
    "        data = city_data.merge(global_data,how='left',on='year')\n",
    "\n",
    "    return data\n",
    "# print(filter_city('Wuhan'))\n",
    "\n",
    "\n",
    "def project_func(city,x):\n",
    "    window = x\n",
    "    data = calculate_moving_average(filter_city(city),window)\n",
    "    show_fig(data)\n",
    "\n",
    "    \n",
    "city_origin={\n",
    "    '昆明':'Kunming','齐齐哈尔':'Qiqihar','西安':'Xian',\n",
    "    '兰州':'Lanzhou','天津':'Tianjin','成都':'Chengdu',\n",
    "    '唐山':'Tangshan','大同':'Datong','太原':'Taiyuan',\n",
    "    '哈尔滨':'Harbin','长春':'Changchun','沈阳':'Shenyang',\n",
    "    '大连':'Dalian','鞍山':'Anshan','吉林':'Jilin',\n",
    "    '南京':'Nanning','济南':'Jinan','邯郸':'Handan',\n",
    "    '广州':'Guangzhou','贵阳':'Guiyang','洛阳':'Luoyang',\n",
    "    '佛山':'Foshan','徐州':'Xuzhou','无锡':'Wuxi',\n",
    "    '合肥':'Hefei','杭州':'Hangzhou','苏州':'Suzhou',\n",
    "    '常州':'Changzhou','南昌':'Nanchang','青岛':'Qingdao',\n",
    "    '福州':'Fuzhou','武汉':'Wuhan','南京':'Nanjing','上海':'Shanghai'    \n",
    "}\n",
    "    \n",
    "interact(project_func, city=city_origin, x=widgets.IntSlider(min=2,max=20,description='移动N值'))\n"
   ]
  },
  {
   "cell_type": "code",
   "execution_count": null,
   "metadata": {},
   "outputs": [],
   "source": []
  }
 ],
 "metadata": {
  "kernelspec": {
   "display_name": "Python 3",
   "language": "python",
   "name": "python3"
  },
  "language_info": {
   "codemirror_mode": {
    "name": "ipython",
    "version": 3
   },
   "file_extension": ".py",
   "mimetype": "text/x-python",
   "name": "python",
   "nbconvert_exporter": "python",
   "pygments_lexer": "ipython3",
   "version": "3.6.7"
  }
 },
 "nbformat": 4,
 "nbformat_minor": 2
}
